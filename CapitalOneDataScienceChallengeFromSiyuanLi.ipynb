{
 "cells": [
  {
   "cell_type": "code",
   "execution_count": 1,
   "metadata": {
    "collapsed": true
   },
   "outputs": [],
   "source": [
    "## Import library and download the csv file\n",
    "import pandas as pd\n",
    "import urllib.request ## for downloading the file\n",
    "import numpy as np\n",
    "import matplotlib\n",
    "from matplotlib import pyplot as plt ##These two are for drawing graphs\n",
    "import math \n",
    "import statsmodels.api as sm ## for linear regression\n",
    "import scipy.stats as stats ## for statistical test"
   ]
  },
  {
   "cell_type": "code",
   "execution_count": 2,
   "metadata": {},
   "outputs": [
    {
     "data": {
      "text/plain": [
       "('green_tripdata_2015-09.csv', <http.client.HTTPMessage at 0x2636b400e48>)"
      ]
     },
     "execution_count": 2,
     "metadata": {},
     "output_type": "execute_result"
    }
   ],
   "source": [
    "##Download raw data set to current working directory\n",
    "url=\"https://s3.amazonaws.com/nyc-tlc/trip+data/green_tripdata_2015-09.csv\"\n",
    "download=urllib.request.urlretrieve(url,\"green_tripdata_2015-09.csv\")\n",
    "download"
   ]
  },
  {
   "cell_type": "code",
   "execution_count": null,
   "metadata": {},
   "outputs": [],
   "source": [
    "rawGreen=pd.read_csv(\"green_tripdata_2015-09.csv\")"
   ]
  },
  {
   "cell_type": "code",
   "execution_count": 4,
   "metadata": {},
   "outputs": [
    {
     "data": {
      "text/plain": [
       "(1494926, 21)"
      ]
     },
     "execution_count": 4,
     "metadata": {},
     "output_type": "execute_result"
    }
   ],
   "source": [
    "## Report the number of rows of columns\n",
    "rawGreen.shape\n",
    "## The result shows that there are 1,494,926 records with 21 variables"
   ]
  },
  {
   "cell_type": "code",
   "execution_count": 5,
   "metadata": {
    "collapsed": true
   },
   "outputs": [],
   "source": [
    "##define function to reject outlier data points\n",
    "def reject_outliers(data, m=6):\n",
    "    return data[abs(data - np.mean(data)) < m * np.std(data)]"
   ]
  },
  {
   "cell_type": "code",
   "execution_count": 6,
   "metadata": {},
   "outputs": [
    {
     "data": {
      "text/plain": [
       "<matplotlib.axes._subplots.AxesSubplot at 0x2630573c048>"
      ]
     },
     "execution_count": 6,
     "metadata": {},
     "output_type": "execute_result"
    },
    {
     "data": {
      "image/png": "[encoded data removed]",
      "text/plain": [
       "<matplotlib.figure.Figure at 0x26303e6b6a0>"
      ]
     },
     "metadata": {},
     "output_type": "display_data"
    }
   ],
   "source": [
    "%matplotlib inline\n",
    "plt.style.use('ggplot')\n",
    "tripDistance=rawGreen.Trip_distance\n",
    "tripDistanceNoOut=reject_outliers(tripDistance)##omit the outliers\n",
    "tripDistanceNoOut.plot.hist(bins=np.arange(0, max(tripDistanceNoOut) , 0.5))"
   ]
  },
  {
   "cell_type": "markdown",
   "metadata": {},
   "source": [
    "The total are in manhattan where green cab can run is 96E street to 110W street which is approximately a 2.5 mile * 0.8 mile square, plus LGA and JFK if booked\n",
    "There are 15 steets and 14 avenues in this area, meaning the total length of roads in this area is 2.5*15+0.8*14=48.7 miles\n",
    "The max distance in Manhattan should be 2.5+0.8=3.3 miles take 4 to consider some specific situation\n",
    "The MAX distance from LGA to this area is 9.6 miles and MIN distance is 7.4 miles\n",
    "The MAX distance from JFK is 20 mile and min distance is 18 miles\n",
    "\n",
    "--->Around (7.5+24+25+18+13+11+8+7)/149=77% rentals happened on Manhattan  while 10% happend between airport and Manhattan"
   ]
  },
  {
   "cell_type": "code",
   "execution_count": 7,
   "metadata": {
    "collapsed": true
   },
   "outputs": [],
   "source": [
    "## Get prepared for the time needed in following calculation\n",
    "    ##This chunk may take as long as 5 mins to run\n",
    "hourStart=[None]*(rawGreen.shape[0])\n",
    "minStart=[None]*(rawGreen.shape[0])\n",
    "secStart=[None]*(rawGreen.shape[0])\n",
    "hourEnd=[None]*(rawGreen.shape[0])\n",
    "minEnd=[None]*(rawGreen.shape[0])\n",
    "secEnd=[None]*(rawGreen.shape[0])\n",
    "startTime=rawGreen.lpep_pickup_datetime\n",
    "endTime=rawGreen.Lpep_dropoff_datetime\n",
    "for i in range(0,rawGreen.shape[0]):\n",
    "    hourStart[i]=startTime[i][11:13]\n",
    "    minStart[i]=startTime[i][14:16]\n",
    "    secStart[i]=startTime[i][17:19]\n",
    "    hourEnd[i]=endTime[i][11:13]\n",
    "    minEnd[i]=endTime[i][14:16]\n",
    "    secEnd[i]=endTime[i][17:19]"
   ]
  },
  {
   "cell_type": "code",
   "execution_count": 8,
   "metadata": {
    "collapsed": true
   },
   "outputs": [],
   "source": [
    "hourStartPd=pd.DataFrame(hourStart)\n",
    "hourStartPd.columns=['hourStart']\n",
    "rawGreenFull=rawGreen.join(hourStartPd)"
   ]
  },
  {
   "cell_type": "code",
   "execution_count": 9,
   "metadata": {
    "collapsed": true
   },
   "outputs": [],
   "source": [
    "##Report the mean and median of the trip distance by hour\n",
    "distanceMean_hour=rawGreenFull.groupby(['hourStart'])['Trip_distance'].mean()\n",
    "distanceMedian_hour=rawGreenFull.groupby(['hourStart'])['Trip_distance'].median()"
   ]
  },
  {
   "cell_type": "code",
   "execution_count": 10,
   "metadata": {},
   "outputs": [
    {
     "data": {
      "text/plain": [
       "hourStart\n",
       "00    3.115276\n",
       "01    3.017347\n",
       "02    3.046176\n",
       "03    3.212945\n",
       "04    3.526555\n",
       "05    4.133474\n",
       "06    4.055149\n",
       "07    3.284394\n",
       "08    3.048450\n",
       "09    2.999105\n",
       "10    2.944482\n",
       "11    2.912015\n",
       "12    2.903065\n",
       "13    2.878294\n",
       "14    2.864304\n",
       "15    2.857040\n",
       "16    2.779852\n",
       "17    2.679114\n",
       "18    2.653222\n",
       "19    2.715597\n",
       "20    2.777052\n",
       "21    2.999189\n",
       "22    3.185394\n",
       "23    3.191538\n",
       "Name: Trip_distance, dtype: float64"
      ]
     },
     "execution_count": 10,
     "metadata": {},
     "output_type": "execute_result"
    }
   ],
   "source": [
    "distanceMean_hour"
   ]
  },
  {
   "cell_type": "code",
   "execution_count": 11,
   "metadata": {},
   "outputs": [
    {
     "data": {
      "text/plain": [
       "hourStart\n",
       "00    2.20\n",
       "01    2.12\n",
       "02    2.14\n",
       "03    2.20\n",
       "04    2.36\n",
       "05    2.90\n",
       "06    2.84\n",
       "07    2.17\n",
       "08    1.98\n",
       "09    1.96\n",
       "10    1.92\n",
       "11    1.88\n",
       "12    1.89\n",
       "13    1.84\n",
       "14    1.83\n",
       "15    1.81\n",
       "16    1.80\n",
       "17    1.78\n",
       "18    1.80\n",
       "19    1.85\n",
       "20    1.90\n",
       "21    2.03\n",
       "22    2.20\n",
       "23    2.22\n",
       "Name: Trip_distance, dtype: float64"
      ]
     },
     "execution_count": 11,
     "metadata": {},
     "output_type": "execute_result"
    }
   ],
   "source": [
    "distanceMedian_hour"
   ]
  },
  {
   "cell_type": "markdown",
   "metadata": {},
   "source": [
    "In the following part I use longitude to identify whether a trip is from/to the airport\n",
    "From Google map, I define the bound is -73.9"
   ]
  },
  {
   "cell_type": "code",
   "execution_count": 12,
   "metadata": {
    "collapsed": true
   },
   "outputs": [],
   "source": [
    "##Get prepared for the longitude\n",
    "pickUpLong=rawGreenFull.Pickup_longitude\n",
    "dropOffLong=rawGreenFull.Dropoff_longitude\n",
    "##Identify whether it originate or ternimate at airport\n",
    "whetherAirport=[None]*(rawGreen.shape[0])# if it start/end at the airport this value is 1 or the value is 0\n",
    "for i in range(0,rawGreen.shape[0]):\n",
    "    if (pickUpLong[i]+73.9)*(dropOffLong[i]+73.9)<0:\n",
    "        whetherAirport[i]=1\n",
    "    else:\n",
    "        whetherAirport[i]=0"
   ]
  },
  {
   "cell_type": "code",
   "execution_count": 13,
   "metadata": {},
   "outputs": [
    {
     "data": {
      "text/plain": [
       "whetherAirport    161446.0\n",
       "dtype: float64"
      ]
     },
     "execution_count": 13,
     "metadata": {},
     "output_type": "execute_result"
    }
   ],
   "source": [
    "whetherAirportPd=pd.DataFrame(whetherAirport)\n",
    "whetherAirportPd.columns=['whetherAirport']\n",
    "numAirportTrans=rawGreen.shape[0]*whetherAirportPd.mean()\n",
    "numAirportTrans\n",
    "## It shows that there are 161446 transaction startedd/ended at the airports, accounting for 11% of the total transaction"
   ]
  },
  {
   "cell_type": "code",
   "execution_count": 14,
   "metadata": {
    "collapsed": true
   },
   "outputs": [],
   "source": [
    "GreenWAirport=rawGreenFull.join(whetherAirportPd) ## Combine the raw data with new variable\n",
    "## with this, we can calculate the average of (passenger count, trip distance,fare amount, tip amount(tip ratio) by category )"
   ]
  },
  {
   "cell_type": "code",
   "execution_count": 16,
   "metadata": {
    "collapsed": true
   },
   "outputs": [],
   "source": [
    "##Derive the percentage of tip tipPercentage=Tip_amount/Total_amount\n",
    "tipPercentage=GreenWAirport.Tip_amount.div(GreenWAirport.Total_amount)\n",
    "tipPercentage=pd.DataFrame(tipPercentage)\n",
    "tipPercentage.columns=['tipPercentage']\n",
    "GreenWAirportWTip=GreenWAirport.join(tipPercentage)## Combine with new Variable"
   ]
  },
  {
   "cell_type": "code",
   "execution_count": 18,
   "metadata": {},
   "outputs": [],
   "source": [
    "distance_airport=GreenWAirport.groupby(['whetherAirport'])['Trip_distance'].mean()\n",
    "totalFare_airport=GreenWAirport.groupby(['whetherAirport'])['Total_amount'].mean()\n",
    "passengerCount_airport=GreenWAirport.groupby(['whetherAirport'])['Passenger_count'].mean()\n",
    "tipPercentage_airport=GreenWAirportWTip.groupby(['whetherAirport'])['tipPercentage'].mean()\n",
    "##In this chunk I want to derive the different speed between in Mahattan and Airport, but something wrong with calculation the trip time"
   ]
  },
  {
   "cell_type": "code",
   "execution_count": 19,
   "metadata": {
    "collapsed": true
   },
   "outputs": [],
   "source": [
    "## Define whether a trip is in late night (23p.m.-06a.m.)\n",
    "whetherNight=[None]*(rawGreen.shape[0])# if it is late night this value is 1 or the value is 0\n",
    "for i in range(0,rawGreen.shape[0]):\n",
    "    if (hourStart[i]=='23'or hourStart[i]=='00'or hourStart[i]=='01' or hourStart[i]=='02' or hourStart[i]=='03' or hourStart[i]=='04' or hourStart[i]=='05') or hourStart[i]=='06':\n",
    "        whetherNight[i]=1\n",
    "    else:\n",
    "        whetherNight[i]=0"
   ]
  },
  {
   "cell_type": "code",
   "execution_count": 20,
   "metadata": {
    "collapsed": true
   },
   "outputs": [],
   "source": [
    "whetherNightPd=pd.DataFrame(whetherNight)\n",
    "whetherNightPd.columns=['whetherNight']\n",
    "GreenWAirportWTipWNight=GreenWAirportWTip.join(whetherNightPd)##Combine with new variable"
   ]
  },
  {
   "cell_type": "code",
   "execution_count": 21,
   "metadata": {},
   "outputs": [
    {
     "data": {
      "text/plain": [
       "whetherNight\n",
       "0    0.066309\n",
       "1    0.067317\n",
       "Name: tipPercentage, dtype: float64"
      ]
     },
     "execution_count": 21,
     "metadata": {},
     "output_type": "execute_result"
    }
   ],
   "source": [
    "##try to find out whether there are significant difference whether in late night\n",
    "distance_night=GreenWAirportWTipWNight.groupby(['whetherNight'])['Trip_distance'].mean()\n",
    "totalFare_night=GreenWAirportWTipWNight.groupby(['whetherNight'])['Total_amount'].mean()\n",
    "passengerCount_night=GreenWAirportWTipWNight.groupby(['whetherNight'])['Passenger_count'].mean()\n",
    "tipPercentage_night=GreenWAirportWTipWNight.groupby(['whetherNight'])['tipPercentage'].mean()\n",
    "distance_night\n",
    "totalFare_night\n",
    "passengerCount_night\n",
    "tipPercentage_night"
   ]
  },
  {
   "cell_type": "code",
   "execution_count": 22,
   "metadata": {
    "collapsed": true
   },
   "outputs": [],
   "source": [
    "##Get prepared to calculate duration of each ride\n",
    "minStartPd=pd.DataFrame(minStart)\n",
    "minStartPd.columns=['minStart']\n",
    "secStartPd=pd.DataFrame(secStart)\n",
    "secStartPd.columns=['secStart']\n",
    "hourEndPd=pd.DataFrame(hourEnd)\n",
    "hourEndPd.columns=['hourEnd']\n",
    "minEndPd=pd.DataFrame(minEnd)\n",
    "minEndPd.columns=['minEnd']\n",
    "secEndPd=pd.DataFrame(secEnd)\n",
    "secEndPd.columns=['secEnd']"
   ]
  },
  {
   "cell_type": "code",
   "execution_count": 23,
   "metadata": {
    "collapsed": true
   },
   "outputs": [],
   "source": [
    "## Calculate time each ride took (in minutes)\n",
    "startTimeInMin=[None]*(rawGreen.shape[0])\n",
    "endTimeInMin=[None]*(rawGreen.shape[0])\n",
    "timeLasting=[None]*(rawGreen.shape[0])\n",
    "for i in range(0,rawGreen.shape[0]):\n",
    "    startTimeInMin[i]=(int(hourStart[i])*60+int(minStart[i])+int(secStart[i])/60)\n",
    "    endTimeInMin[i]=int(hourEnd[i])*60+int(minEnd[i])+int(secEnd[i])/60\n",
    "    timeLasting[i]=endTimeInMin[i]-startTimeInMin[i]"
   ]
  },
  {
   "cell_type": "code",
   "execution_count": 24,
   "metadata": {
    "collapsed": true
   },
   "outputs": [],
   "source": [
    "timeLastingPd=pd.DataFrame(timeLasting)\n",
    "timeLastingPd.columns=['timeLasting']\n",
    "timeLastingPd[timeLastingPd<0]=math.inf  ##deal with outlier point set it to inf so that the corresponding speed will be 0"
   ]
  },
  {
   "cell_type": "code",
   "execution_count": 25,
   "metadata": {
    "collapsed": true
   },
   "outputs": [],
   "source": [
    "GreenWAirportWTipWNightWTime=GreenWAirportWTipWNight.join(timeLastingPd)## combine the new variable"
   ]
  },
  {
   "cell_type": "code",
   "execution_count": 26,
   "metadata": {
    "collapsed": true
   },
   "outputs": [],
   "source": [
    "##Derive speed for each ride\n",
    "speed=GreenWAirportWTipWNightWTime.Trip_distance.div(GreenWAirportWTipWNightWTime.timeLasting)*60\n",
    "speedPd=pd.DataFrame(speed)\n",
    "speedPd=speedPd[speedPd<100] ## omit those outliers\n",
    "speedPd.columns=['speed']\n",
    "GreenWAirportWTipWNightWTimeWSpeed=GreenWAirportWTipWNightWTime.join(speedPd)"
   ]
  },
  {
   "cell_type": "code",
   "execution_count": 27,
   "metadata": {
    "collapsed": true
   },
   "outputs": [],
   "source": [
    "##Introduce the variable to identify different week\n",
    "date=[None]*(rawGreen.shape[0])\n",
    "for i in range(0,rawGreen.shape[0]):\n",
    "    date[i]=startTime[i][8:10]\n",
    "    ## In this case we suppose one week begin from Monday\n",
    "week=[None]*(rawGreen.shape[0])\n",
    "for i in range(0,rawGreen.shape[0]):\n",
    "    if date[i]=='01' or date[i]=='02' or date[i]=='03' or date[i]=='04' or date[i]=='05' or date[i]=='06' :\n",
    "        week[i]=1\n",
    "    elif date[i]=='07' or date[i]=='08' or date[i]=='09' or date[i]=='10' or date[i]=='11' or date[i]=='12' or date[i]=='13' :\n",
    "        week[i]=2\n",
    "    elif date[i]=='14' or date[i]=='15' or date[i]=='16' or date[i]=='17' or date[i]=='18' or date[i]=='19' or date[i]=='20' :\n",
    "        week[i]=3\n",
    "    elif date[i]=='21' or date[i]=='22' or date[i]=='23' or date[i]=='24' or date[i]=='25' or date[i]=='26' or date[i]=='27' :\n",
    "        week[i]=4\n",
    "    elif date[i]=='28' or date[i]=='29' or date[i]=='30' :\n",
    "        week[i]=5"
   ]
  },
  {
   "cell_type": "code",
   "execution_count": 28,
   "metadata": {
    "collapsed": true
   },
   "outputs": [],
   "source": [
    "weekPd=pd.DataFrame(week)\n",
    "weekPd.columns=['week']\n",
    "GreenWAirportWTipWNightWTimeWSpeedWWeek=GreenWAirportWTipWNightWTimeWSpeed.join(weekPd)## Combine the new Variable"
   ]
  },
  {
   "cell_type": "markdown",
   "metadata": {},
   "source": [
    "The following chunks will try to find the relationship between tip rate and other variables."
   ]
  },
  {
   "cell_type": "code",
   "execution_count": 29,
   "metadata": {},
   "outputs": [
    {
     "data": {
      "text/html": [
       "<table class=\"simpletable\">\n",
       "<caption>OLS Regression Results</caption>\n",
       "<tr>\n",
       "  <th>Dep. Variable:</th>      <td>tipPercentage</td>  <th>  R-squared:         </th>  <td>   0.017</td> \n",
       "</tr>\n",
       "<tr>\n",
       "  <th>Model:</th>                   <td>OLS</td>       <th>  Adj. R-squared:    </th>  <td>   0.017</td> \n",
       "</tr>\n",
       "<tr>\n",
       "  <th>Method:</th>             <td>Least Squares</td>  <th>  F-statistic:       </th>  <td>   4336.</td> \n",
       "</tr>\n",
       "<tr>\n",
       "  <th>Date:</th>             <td>Sun, 05 Mar 2017</td> <th>  Prob (F-statistic):</th>   <td>  0.00</td>  \n",
       "</tr>\n",
       "<tr>\n",
       "  <th>Time:</th>                 <td>06:54:43</td>     <th>  Log-Likelihood:    </th> <td>1.5121e+06</td>\n",
       "</tr>\n",
       "<tr>\n",
       "  <th>No. Observations:</th>      <td>1494926</td>     <th>  AIC:               </th> <td>-3.024e+06</td>\n",
       "</tr>\n",
       "<tr>\n",
       "  <th>Df Residuals:</th>          <td>1494919</td>     <th>  BIC:               </th> <td>-3.024e+06</td>\n",
       "</tr>\n",
       "<tr>\n",
       "  <th>Df Model:</th>              <td>     6</td>      <th>                     </th>      <td> </td>    \n",
       "</tr>\n",
       "<tr>\n",
       "  <th>Covariance Type:</th>      <td>nonrobust</td>    <th>                     </th>      <td> </td>    \n",
       "</tr>\n",
       "</table>\n",
       "<table class=\"simpletable\">\n",
       "<tr>\n",
       "         <td></td>            <th>coef</th>     <th>std err</th>      <th>t</th>      <th>P>|t|</th> <th>[95.0% Conf. Int.]</th> \n",
       "</tr>\n",
       "<tr>\n",
       "  <th>const</th>           <td>    0.0539</td> <td>    0.000</td> <td>  254.216</td> <td> 0.000</td> <td>    0.053     0.054</td>\n",
       "</tr>\n",
       "<tr>\n",
       "  <th>Passenger_count</th> <td>    0.0001</td> <td> 6.93e-05</td> <td>    1.879</td> <td> 0.060</td> <td> -5.6e-06     0.000</td>\n",
       "</tr>\n",
       "<tr>\n",
       "  <th>Trip_distance</th>   <td>    0.0028</td> <td> 4.95e-05</td> <td>   57.429</td> <td> 0.000</td> <td>    0.003     0.003</td>\n",
       "</tr>\n",
       "<tr>\n",
       "  <th>Fare_amount</th>     <td>    0.0002</td> <td> 1.36e-05</td> <td>   13.702</td> <td> 0.000</td> <td>    0.000     0.000</td>\n",
       "</tr>\n",
       "<tr>\n",
       "  <th>whetherNight</th>    <td>   -0.0004</td> <td>    0.000</td> <td>   -2.389</td> <td> 0.017</td> <td>   -0.001 -7.47e-05</td>\n",
       "</tr>\n",
       "<tr>\n",
       "  <th>whetherAirport</th>  <td>   -0.0270</td> <td>    0.000</td> <td> -108.356</td> <td> 0.000</td> <td>   -0.028    -0.027</td>\n",
       "</tr>\n",
       "<tr>\n",
       "  <th>speed</th>           <td>    0.0004</td> <td> 1.42e-05</td> <td>   26.240</td> <td> 0.000</td> <td>    0.000     0.000</td>\n",
       "</tr>\n",
       "</table>\n",
       "<table class=\"simpletable\">\n",
       "<tr>\n",
       "  <th>Omnibus:</th>       <td>450107.470</td> <th>  Durbin-Watson:     </th>  <td>   1.976</td>  \n",
       "</tr>\n",
       "<tr>\n",
       "  <th>Prob(Omnibus):</th>   <td> 0.000</td>   <th>  Jarque-Bera (JB):  </th> <td>2364188.606</td>\n",
       "</tr>\n",
       "<tr>\n",
       "  <th>Skew:</th>            <td> 1.360</td>   <th>  Prob(JB):          </th>  <td>    0.00</td>  \n",
       "</tr>\n",
       "<tr>\n",
       "  <th>Kurtosis:</th>        <td> 8.527</td>   <th>  Cond. No.          </th>  <td>    72.1</td>  \n",
       "</tr>\n",
       "</table>"
      ],
      "text/plain": [
       "<class 'statsmodels.iolib.summary.Summary'>\n",
       "\"\"\"\n",
       "                            OLS Regression Results                            \n",
       "==============================================================================\n",
       "Dep. Variable:          tipPercentage   R-squared:                       0.017\n",
       "Model:                            OLS   Adj. R-squared:                  0.017\n",
       "Method:                 Least Squares   F-statistic:                     4336.\n",
       "Date:                Sun, 05 Mar 2017   Prob (F-statistic):               0.00\n",
       "Time:                        06:54:43   Log-Likelihood:             1.5121e+06\n",
       "No. Observations:             1494926   AIC:                        -3.024e+06\n",
       "Df Residuals:                 1494919   BIC:                        -3.024e+06\n",
       "Df Model:                           6                                         \n",
       "Covariance Type:            nonrobust                                         \n",
       "===================================================================================\n",
       "                      coef    std err          t      P>|t|      [95.0% Conf. Int.]\n",
       "-----------------------------------------------------------------------------------\n",
       "const               0.0539      0.000    254.216      0.000         0.053     0.054\n",
       "Passenger_count     0.0001   6.93e-05      1.879      0.060      -5.6e-06     0.000\n",
       "Trip_distance       0.0028   4.95e-05     57.429      0.000         0.003     0.003\n",
       "Fare_amount         0.0002   1.36e-05     13.702      0.000         0.000     0.000\n",
       "whetherNight       -0.0004      0.000     -2.389      0.017        -0.001 -7.47e-05\n",
       "whetherAirport     -0.0270      0.000   -108.356      0.000        -0.028    -0.027\n",
       "speed               0.0004   1.42e-05     26.240      0.000         0.000     0.000\n",
       "==============================================================================\n",
       "Omnibus:                   450107.470   Durbin-Watson:                   1.976\n",
       "Prob(Omnibus):                  0.000   Jarque-Bera (JB):          2364188.606\n",
       "Skew:                           1.360   Prob(JB):                         0.00\n",
       "Kurtosis:                       8.527   Cond. No.                         72.1\n",
       "==============================================================================\n",
       "\n",
       "Warnings:\n",
       "[1] Standard Errors assume that the covariance matrix of the errors is correctly specified.\n",
       "\"\"\""
      ]
     },
     "execution_count": 29,
     "metadata": {},
     "output_type": "execute_result"
    }
   ],
   "source": [
    "##deal with nan and inf\n",
    "GreenWAirportWTipWNightWTimeWSpeedWWeek.replace([np.inf, -np.inf], np.nan)\n",
    "greenFinal=GreenWAirportWTipWNightWTimeWSpeedWWeek.fillna(method='backfill')\n",
    "## do linear regrssion between tipPercentage---Passenger_count, Trip_distance, Fare_amount, whetherNight, whetherAirport, speed\n",
    "X=greenFinal[['Passenger_count','Trip_distance','Fare_amount','whetherNight','whetherAirport','speed']]\n",
    "Y=greenFinal['tipPercentage']\n",
    "X = sm.add_constant(X)\n",
    "est = sm.OLS(Y, X).fit()\n",
    "est.summary()"
   ]
  },
  {
   "cell_type": "code",
   "execution_count": 30,
   "metadata": {},
   "outputs": [
    {
     "data": {
      "text/html": [
       "<table class=\"simpletable\">\n",
       "<caption>OLS Regression Results</caption>\n",
       "<tr>\n",
       "  <th>Dep. Variable:</th>      <td>tipPercentage</td>  <th>  R-squared:         </th>  <td>   0.343</td> \n",
       "</tr>\n",
       "<tr>\n",
       "  <th>Model:</th>                   <td>OLS</td>       <th>  Adj. R-squared:    </th>  <td>   0.343</td> \n",
       "</tr>\n",
       "<tr>\n",
       "  <th>Method:</th>             <td>Least Squares</td>  <th>  F-statistic:       </th>  <td>1.564e+05</td>\n",
       "</tr>\n",
       "<tr>\n",
       "  <th>Date:</th>             <td>Sun, 05 Mar 2017</td> <th>  Prob (F-statistic):</th>   <td>  0.00</td>  \n",
       "</tr>\n",
       "<tr>\n",
       "  <th>Time:</th>                 <td>06:55:20</td>     <th>  Log-Likelihood:    </th> <td>1.4803e+06</td>\n",
       "</tr>\n",
       "<tr>\n",
       "  <th>No. Observations:</th>      <td>1494926</td>     <th>  AIC:               </th> <td>-2.961e+06</td>\n",
       "</tr>\n",
       "<tr>\n",
       "  <th>Df Residuals:</th>          <td>1494921</td>     <th>  BIC:               </th> <td>-2.960e+06</td>\n",
       "</tr>\n",
       "<tr>\n",
       "  <th>Df Model:</th>              <td>     5</td>      <th>                     </th>      <td> </td>    \n",
       "</tr>\n",
       "<tr>\n",
       "  <th>Covariance Type:</th>      <td>nonrobust</td>    <th>                     </th>      <td> </td>    \n",
       "</tr>\n",
       "</table>\n",
       "<table class=\"simpletable\">\n",
       "<tr>\n",
       "         <td></td>            <th>coef</th>     <th>std err</th>      <th>t</th>      <th>P>|t|</th> <th>[95.0% Conf. Int.]</th> \n",
       "</tr>\n",
       "<tr>\n",
       "  <th>Passenger_count</th> <td>    0.0080</td> <td> 6.33e-05</td> <td>  126.980</td> <td> 0.000</td> <td>    0.008     0.008</td>\n",
       "</tr>\n",
       "<tr>\n",
       "  <th>Trip_distance</th>   <td>   -0.0017</td> <td> 4.72e-05</td> <td>  -36.798</td> <td> 0.000</td> <td>   -0.002    -0.002</td>\n",
       "</tr>\n",
       "<tr>\n",
       "  <th>Fare_amount</th>     <td>    0.0017</td> <td> 1.26e-05</td> <td>  132.898</td> <td> 0.000</td> <td>    0.002     0.002</td>\n",
       "</tr>\n",
       "<tr>\n",
       "  <th>whetherAirport</th>  <td>   -0.0314</td> <td>    0.000</td> <td> -123.390</td> <td> 0.000</td> <td>   -0.032    -0.031</td>\n",
       "</tr>\n",
       "<tr>\n",
       "  <th>speed</th>           <td>    0.0029</td> <td> 1.01e-05</td> <td>  287.797</td> <td> 0.000</td> <td>    0.003     0.003</td>\n",
       "</tr>\n",
       "</table>\n",
       "<table class=\"simpletable\">\n",
       "<tr>\n",
       "  <th>Omnibus:</th>       <td>438139.673</td> <th>  Durbin-Watson:     </th>  <td>   1.959</td>  \n",
       "</tr>\n",
       "<tr>\n",
       "  <th>Prob(Omnibus):</th>   <td> 0.000</td>   <th>  Jarque-Bera (JB):  </th> <td>2563426.334</td>\n",
       "</tr>\n",
       "<tr>\n",
       "  <th>Skew:</th>            <td> 1.286</td>   <th>  Prob(JB):          </th>  <td>    0.00</td>  \n",
       "</tr>\n",
       "<tr>\n",
       "  <th>Kurtosis:</th>        <td> 8.877</td>   <th>  Cond. No.          </th>  <td>    71.5</td>  \n",
       "</tr>\n",
       "</table>"
      ],
      "text/plain": [
       "<class 'statsmodels.iolib.summary.Summary'>\n",
       "\"\"\"\n",
       "                            OLS Regression Results                            \n",
       "==============================================================================\n",
       "Dep. Variable:          tipPercentage   R-squared:                       0.343\n",
       "Model:                            OLS   Adj. R-squared:                  0.343\n",
       "Method:                 Least Squares   F-statistic:                 1.564e+05\n",
       "Date:                Sun, 05 Mar 2017   Prob (F-statistic):               0.00\n",
       "Time:                        06:55:20   Log-Likelihood:             1.4803e+06\n",
       "No. Observations:             1494926   AIC:                        -2.961e+06\n",
       "Df Residuals:                 1494921   BIC:                        -2.960e+06\n",
       "Df Model:                           5                                         \n",
       "Covariance Type:            nonrobust                                         \n",
       "===================================================================================\n",
       "                      coef    std err          t      P>|t|      [95.0% Conf. Int.]\n",
       "-----------------------------------------------------------------------------------\n",
       "Passenger_count     0.0080   6.33e-05    126.980      0.000         0.008     0.008\n",
       "Trip_distance      -0.0017   4.72e-05    -36.798      0.000        -0.002    -0.002\n",
       "Fare_amount         0.0017   1.26e-05    132.898      0.000         0.002     0.002\n",
       "whetherAirport     -0.0314      0.000   -123.390      0.000        -0.032    -0.031\n",
       "speed               0.0029   1.01e-05    287.797      0.000         0.003     0.003\n",
       "==============================================================================\n",
       "Omnibus:                   438139.673   Durbin-Watson:                   1.959\n",
       "Prob(Omnibus):                  0.000   Jarque-Bera (JB):          2563426.334\n",
       "Skew:                           1.286   Prob(JB):                         0.00\n",
       "Kurtosis:                       8.877   Cond. No.                         71.5\n",
       "==============================================================================\n",
       "\n",
       "Warnings:\n",
       "[1] Standard Errors assume that the covariance matrix of the errors is correctly specified.\n",
       "\"\"\""
      ]
     },
     "execution_count": 30,
     "metadata": {},
     "output_type": "execute_result"
    }
   ],
   "source": [
    "##This is my second attempt\n",
    "X1=greenFinal[['Passenger_count','Trip_distance','Fare_amount','whetherAirport','speed']]\n",
    "Y1=greenFinal['tipPercentage']\n",
    "X = sm.add_constant(X)\n",
    "est = sm.OLS(Y1, X1).fit()\n",
    "est.summary()"
   ]
  },
  {
   "cell_type": "code",
   "execution_count": 31,
   "metadata": {},
   "outputs": [
    {
     "data": {
      "text/plain": [
       "hourStart\n",
       "00    14.545004\n",
       "01    14.786231\n",
       "02    14.990236\n",
       "03    15.367228\n",
       "04    16.158513\n",
       "05    17.916235\n",
       "06    16.946160\n",
       "07    13.427496\n",
       "08    12.249486\n",
       "09    12.505732\n",
       "10    12.478612\n",
       "11    12.197977\n",
       "12    12.085502\n",
       "13    11.996609\n",
       "14    11.506909\n",
       "15    11.137964\n",
       "16    10.897975\n",
       "17    10.887755\n",
       "18    11.465511\n",
       "19    12.019695\n",
       "20    12.706014\n",
       "21    13.556599\n",
       "22    14.017463\n",
       "23    11.300575\n",
       "Name: speed, dtype: float64"
      ]
     },
     "execution_count": 31,
     "metadata": {},
     "output_type": "execute_result"
    }
   ],
   "source": [
    "##Show the average speed grouped by hours\n",
    "speed_hour=greenFinal.groupby(['hourStart'])['speed'].mean()\n",
    "speed_hour"
   ]
  },
  {
   "cell_type": "markdown",
   "metadata": {},
   "source": [
    "The following chunks will check whether the average speed of different weeks in September are the same"
   ]
  },
  {
   "cell_type": "code",
   "execution_count": 32,
   "metadata": {},
   "outputs": [
    {
     "data": {
      "text/plain": [
       "F_onewayResult(statistic=843.14106813529077, pvalue=0.0)"
      ]
     },
     "execution_count": 32,
     "metadata": {},
     "output_type": "execute_result"
    }
   ],
   "source": [
    "speedWeek1=greenFinal.speed[greenFinal.week==1]\n",
    "speedWeek2=greenFinal.speed[greenFinal.week==2]\n",
    "speedWeek3=greenFinal.speed[greenFinal.week==3]\n",
    "speedWeek4=greenFinal.speed[greenFinal.week==4]\n",
    "speedWeek5=greenFinal.speed[greenFinal.week==5]\n",
    "stats.f_oneway(speedWeek1, speedWeek2, speedWeek3, speedWeek4, speedWeek5)"
   ]
  },
  {
   "cell_type": "code",
   "execution_count": 33,
   "metadata": {
    "scrolled": true
   },
   "outputs": [
    {
     "data": {
      "text/plain": [
       "<matplotlib.axes._subplots.AxesSubplot at 0x263bcf86fd0>"
      ]
     },
     "execution_count": 33,
     "metadata": {},
     "output_type": "execute_result"
    },
    {
     "data": {
      "image/png": "[encoded data removed]",
      "text/plain": [
       "<matplotlib.figure.Figure at 0x263bcf86630>"
      ]
     },
     "metadata": {},
     "output_type": "display_data"
    }
   ],
   "source": [
    "##Plot the scatter of speed with different time\n",
    "startTimeInMinPd=pd.DataFrame(startTimeInMin)\n",
    "startTimeInHourPd=startTimeInMinPd.div(60)\n",
    "startTimeInHourPd.columns=['startTimeInHour']\n",
    "speedStartTime=startTimeInHourPd.join(speedPd)\n",
    "speedStartTime.head()\n",
    "matplotlib.style.use('ggplot') \n",
    "speedStartTime.plot.scatter(x='startTimeInHour', y='speed')"
   ]
  },
  {
   "cell_type": "markdown",
   "metadata": {},
   "source": [
    "The following chunk shows the fitting quadratic function between average speed an different hours of a day"
   ]
  },
  {
   "cell_type": "code",
   "execution_count": 34,
   "metadata": {},
   "outputs": [
    {
     "name": "stdout",
     "output_type": "stream",
     "text": [
      "            4           3          2\n",
      "-0.0004527 x + 0.02349 x - 0.3806 x + 1.78 x + 13.76\n"
     ]
    }
   ],
   "source": [
    "hour = np.array([0,1,2,3,4,5,6,7,8,9,10,11,12,13,14,15,16,17,18,19,20,21,22,23]) ## These data is from speed_hour\n",
    "speed = np.array([14.545004,14.786231,14.990236,15.367228,16.158513,17.916235,16.94616,13.427496,12.249486,12.505732,12.478612,12.197977,12.085502,11.996609,11.506909,11.137964,10.897975,10.887755,11.465511,12.019695,12.706014,13.556599,14.017463,11.300575])\n",
    "z1 = np.polyfit(hour, speed, 4)\n",
    "p1 = np.poly1d(z1)\n",
    "print(p1)"
   ]
  }
 ],
 "metadata": {
  "anaconda-cloud": {},
  "kernelspec": {
   "display_name": "Python 3",
   "language": "python",
   "name": "python3"
  },
  "language_info": {
   "codemirror_mode": {
    "name": "ipython",
    "version": 3
   },
   "file_extension": ".py",
   "mimetype": "text/x-python",
   "name": "python",
   "nbconvert_exporter": "python",
   "pygments_lexer": "ipython3",
   "version": "3.6.2"
  }
 },
 "nbformat": 4,
 "nbformat_minor": 1
}
